{
  "cells": [
    {
      "cell_type": "markdown",
      "metadata": {
        "id": "view-in-github",
        "colab_type": "text"
      },
      "source": [
        "<a href=\"https://colab.research.google.com/github/Saz1978/DFE5/blob/main/MachineLearningProjectSaraAllsopp.ipynb\" target=\"_parent\"><img src=\"https://colab.research.google.com/assets/colab-badge.svg\" alt=\"Open In Colab\"/></a>"
      ]
    },
    {
      "cell_type": "markdown",
      "metadata": {
        "id": "sQNyGYO91sla"
      },
      "source": [
        "# Practical Machine Learning \n",
        "### Project: Model Selection"
      ]
    },
    {
      "cell_type": "markdown",
      "metadata": {
        "id": "ekr-n5UQ1sle"
      },
      "source": [
        "# Abstract"
      ]
    },
    {
      "cell_type": "markdown",
      "metadata": {
        "id": "NyjyShb71slg"
      },
      "source": [
        "# Part 1: Business and Data Understanding"
      ]
    },
    {
      "cell_type": "markdown",
      "metadata": {
        "id": "DULzPM-g1slp"
      },
      "source": [
        "### Q. Identify a suitable dataset for your canditate question(s)"
      ]
    },
    {
      "cell_type": "markdown",
      "metadata": {
        "id": "sInWL4WM1slq"
      },
      "source": [
        "Go have a look at any of these websites:\n",
        "\n",
        "* https://www.kaggle.com/datasets \n",
        "* https://datasetsearch.research.google.com/\n",
        "* https://data.gov.uk/\n",
        "\n",
        "Find an interesting looking data set related to your problem domain and get a copy of it\n"
      ]
    },
    {
      "cell_type": "markdown",
      "metadata": {
        "id": "D11649kJ1slj"
      },
      "source": [
        "### Q. Define the problem domain"
      ]
    },
    {
      "cell_type": "markdown",
      "source": [
        "I have chosen to use the healthcare_dataset_stroke_data file from kaggle.  The data is used to predict whether someone is likely to have a stroke based on various factors, including their bmi, gender, age and various diseases. Each row in the dataset contains information about a particular patient. \n",
        "\n",
        "I have chosen this because:\n",
        "1. The use of Machine Learning in the healthcare sector is an area that particularly interests me as it appears to be something that makes a really positive difference to early diagnosis of diseases and therefore potentially  improves recovery rates. \n",
        "2. Comments about this dataset on Kaggle suggest that it's a highly rated dataset.\n",
        "3. It's not a huge dataset so this is less intimidating for me as a beginner with ML.\n",
        "4. Unlike some of the other datasets I have looked at, the column headings are very clear and therefore it's much easier to see what data is represented in each column. "
      ],
      "metadata": {
        "id": "LMoeyM5mLWpO"
      }
    },
    {
      "cell_type": "markdown",
      "source": [
        "I am going to approach this problem in 2 ways:\n",
        "1. I will do the whole lot in this notebook using Python and then save the file at the end in pkl format and create a model in Azure just for the deployment.\n",
        "2. After cleaning the data in this notebook, I will then save the file as a csv, import as a dataset into Azure and create a ML pipeline using the designer option in Azure Machine Studio. \n",
        "I will record results from both of these within this notebook. "
      ],
      "metadata": {
        "id": "jtBx_aRrHnmd"
      }
    },
    {
      "cell_type": "code",
      "execution_count": 54,
      "metadata": {
        "id": "05QQssl71slk"
      },
      "outputs": [],
      "source": [
        "import pandas as pd\n",
        "import numpy as np"
      ]
    },
    {
      "cell_type": "markdown",
      "source": [
        "I will get my data (which I have downloaded from Kaggle and saved in my GitHub) and then display the first 5 rows so that I can have a look at my data. "
      ],
      "metadata": {
        "id": "gyCrpytONlet"
      }
    },
    {
      "cell_type": "code",
      "source": [
        "data = pd.read_csv(\"https://raw.githubusercontent.com/Saz1978/Pandas-Exercises/main/healthcare-dataset-stroke-data.csv\")\n",
        "data.head()"
      ],
      "metadata": {
        "colab": {
          "base_uri": "https://localhost:8080/",
          "height": 206
        },
        "id": "rNyfgCdmNO24",
        "outputId": "d71ceb83-a7b8-4fc4-d46f-848419c46e75"
      },
      "execution_count": 55,
      "outputs": [
        {
          "output_type": "execute_result",
          "data": {
            "text/html": [
              "\n",
              "  <div id=\"df-1b815877-1796-4839-9cd6-2b423fda3ac8\">\n",
              "    <div class=\"colab-df-container\">\n",
              "      <div>\n",
              "<style scoped>\n",
              "    .dataframe tbody tr th:only-of-type {\n",
              "        vertical-align: middle;\n",
              "    }\n",
              "\n",
              "    .dataframe tbody tr th {\n",
              "        vertical-align: top;\n",
              "    }\n",
              "\n",
              "    .dataframe thead th {\n",
              "        text-align: right;\n",
              "    }\n",
              "</style>\n",
              "<table border=\"1\" class=\"dataframe\">\n",
              "  <thead>\n",
              "    <tr style=\"text-align: right;\">\n",
              "      <th></th>\n",
              "      <th>id</th>\n",
              "      <th>gender</th>\n",
              "      <th>age</th>\n",
              "      <th>hypertension</th>\n",
              "      <th>heart_disease</th>\n",
              "      <th>ever_married</th>\n",
              "      <th>work_type</th>\n",
              "      <th>Residence_type</th>\n",
              "      <th>avg_glucose_level</th>\n",
              "      <th>bmi</th>\n",
              "      <th>smoking_status</th>\n",
              "      <th>stroke</th>\n",
              "    </tr>\n",
              "  </thead>\n",
              "  <tbody>\n",
              "    <tr>\n",
              "      <th>0</th>\n",
              "      <td>9046</td>\n",
              "      <td>Male</td>\n",
              "      <td>67.0</td>\n",
              "      <td>0</td>\n",
              "      <td>1</td>\n",
              "      <td>Yes</td>\n",
              "      <td>Private</td>\n",
              "      <td>Urban</td>\n",
              "      <td>228.69</td>\n",
              "      <td>36.6</td>\n",
              "      <td>formerly smoked</td>\n",
              "      <td>1</td>\n",
              "    </tr>\n",
              "    <tr>\n",
              "      <th>1</th>\n",
              "      <td>51676</td>\n",
              "      <td>Female</td>\n",
              "      <td>61.0</td>\n",
              "      <td>0</td>\n",
              "      <td>0</td>\n",
              "      <td>Yes</td>\n",
              "      <td>Self-employed</td>\n",
              "      <td>Rural</td>\n",
              "      <td>202.21</td>\n",
              "      <td>NaN</td>\n",
              "      <td>never smoked</td>\n",
              "      <td>1</td>\n",
              "    </tr>\n",
              "    <tr>\n",
              "      <th>2</th>\n",
              "      <td>31112</td>\n",
              "      <td>Male</td>\n",
              "      <td>80.0</td>\n",
              "      <td>0</td>\n",
              "      <td>1</td>\n",
              "      <td>Yes</td>\n",
              "      <td>Private</td>\n",
              "      <td>Rural</td>\n",
              "      <td>105.92</td>\n",
              "      <td>32.5</td>\n",
              "      <td>never smoked</td>\n",
              "      <td>1</td>\n",
              "    </tr>\n",
              "    <tr>\n",
              "      <th>3</th>\n",
              "      <td>60182</td>\n",
              "      <td>Female</td>\n",
              "      <td>49.0</td>\n",
              "      <td>0</td>\n",
              "      <td>0</td>\n",
              "      <td>Yes</td>\n",
              "      <td>Private</td>\n",
              "      <td>Urban</td>\n",
              "      <td>171.23</td>\n",
              "      <td>34.4</td>\n",
              "      <td>smokes</td>\n",
              "      <td>1</td>\n",
              "    </tr>\n",
              "    <tr>\n",
              "      <th>4</th>\n",
              "      <td>1665</td>\n",
              "      <td>Female</td>\n",
              "      <td>79.0</td>\n",
              "      <td>1</td>\n",
              "      <td>0</td>\n",
              "      <td>Yes</td>\n",
              "      <td>Self-employed</td>\n",
              "      <td>Rural</td>\n",
              "      <td>174.12</td>\n",
              "      <td>24.0</td>\n",
              "      <td>never smoked</td>\n",
              "      <td>1</td>\n",
              "    </tr>\n",
              "  </tbody>\n",
              "</table>\n",
              "</div>\n",
              "      <button class=\"colab-df-convert\" onclick=\"convertToInteractive('df-1b815877-1796-4839-9cd6-2b423fda3ac8')\"\n",
              "              title=\"Convert this dataframe to an interactive table.\"\n",
              "              style=\"display:none;\">\n",
              "        \n",
              "  <svg xmlns=\"http://www.w3.org/2000/svg\" height=\"24px\"viewBox=\"0 0 24 24\"\n",
              "       width=\"24px\">\n",
              "    <path d=\"M0 0h24v24H0V0z\" fill=\"none\"/>\n",
              "    <path d=\"M18.56 5.44l.94 2.06.94-2.06 2.06-.94-2.06-.94-.94-2.06-.94 2.06-2.06.94zm-11 1L8.5 8.5l.94-2.06 2.06-.94-2.06-.94L8.5 2.5l-.94 2.06-2.06.94zm10 10l.94 2.06.94-2.06 2.06-.94-2.06-.94-.94-2.06-.94 2.06-2.06.94z\"/><path d=\"M17.41 7.96l-1.37-1.37c-.4-.4-.92-.59-1.43-.59-.52 0-1.04.2-1.43.59L10.3 9.45l-7.72 7.72c-.78.78-.78 2.05 0 2.83L4 21.41c.39.39.9.59 1.41.59.51 0 1.02-.2 1.41-.59l7.78-7.78 2.81-2.81c.8-.78.8-2.07 0-2.86zM5.41 20L4 18.59l7.72-7.72 1.47 1.35L5.41 20z\"/>\n",
              "  </svg>\n",
              "      </button>\n",
              "      \n",
              "  <style>\n",
              "    .colab-df-container {\n",
              "      display:flex;\n",
              "      flex-wrap:wrap;\n",
              "      gap: 12px;\n",
              "    }\n",
              "\n",
              "    .colab-df-convert {\n",
              "      background-color: #E8F0FE;\n",
              "      border: none;\n",
              "      border-radius: 50%;\n",
              "      cursor: pointer;\n",
              "      display: none;\n",
              "      fill: #1967D2;\n",
              "      height: 32px;\n",
              "      padding: 0 0 0 0;\n",
              "      width: 32px;\n",
              "    }\n",
              "\n",
              "    .colab-df-convert:hover {\n",
              "      background-color: #E2EBFA;\n",
              "      box-shadow: 0px 1px 2px rgba(60, 64, 67, 0.3), 0px 1px 3px 1px rgba(60, 64, 67, 0.15);\n",
              "      fill: #174EA6;\n",
              "    }\n",
              "\n",
              "    [theme=dark] .colab-df-convert {\n",
              "      background-color: #3B4455;\n",
              "      fill: #D2E3FC;\n",
              "    }\n",
              "\n",
              "    [theme=dark] .colab-df-convert:hover {\n",
              "      background-color: #434B5C;\n",
              "      box-shadow: 0px 1px 3px 1px rgba(0, 0, 0, 0.15);\n",
              "      filter: drop-shadow(0px 1px 2px rgba(0, 0, 0, 0.3));\n",
              "      fill: #FFFFFF;\n",
              "    }\n",
              "  </style>\n",
              "\n",
              "      <script>\n",
              "        const buttonEl =\n",
              "          document.querySelector('#df-1b815877-1796-4839-9cd6-2b423fda3ac8 button.colab-df-convert');\n",
              "        buttonEl.style.display =\n",
              "          google.colab.kernel.accessAllowed ? 'block' : 'none';\n",
              "\n",
              "        async function convertToInteractive(key) {\n",
              "          const element = document.querySelector('#df-1b815877-1796-4839-9cd6-2b423fda3ac8');\n",
              "          const dataTable =\n",
              "            await google.colab.kernel.invokeFunction('convertToInteractive',\n",
              "                                                     [key], {});\n",
              "          if (!dataTable) return;\n",
              "\n",
              "          const docLinkHtml = 'Like what you see? Visit the ' +\n",
              "            '<a target=\"_blank\" href=https://colab.research.google.com/notebooks/data_table.ipynb>data table notebook</a>'\n",
              "            + ' to learn more about interactive tables.';\n",
              "          element.innerHTML = '';\n",
              "          dataTable['output_type'] = 'display_data';\n",
              "          await google.colab.output.renderOutput(dataTable, element);\n",
              "          const docLink = document.createElement('div');\n",
              "          docLink.innerHTML = docLinkHtml;\n",
              "          element.appendChild(docLink);\n",
              "        }\n",
              "      </script>\n",
              "    </div>\n",
              "  </div>\n",
              "  "
            ],
            "text/plain": [
              "      id  gender   age  ...   bmi   smoking_status stroke\n",
              "0   9046    Male  67.0  ...  36.6  formerly smoked      1\n",
              "1  51676  Female  61.0  ...   NaN     never smoked      1\n",
              "2  31112    Male  80.0  ...  32.5     never smoked      1\n",
              "3  60182  Female  49.0  ...  34.4           smokes      1\n",
              "4   1665  Female  79.0  ...  24.0     never smoked      1\n",
              "\n",
              "[5 rows x 12 columns]"
            ]
          },
          "metadata": {},
          "execution_count": 55
        }
      ]
    },
    {
      "cell_type": "markdown",
      "metadata": {
        "id": "Jpul2Lj71sln"
      },
      "source": [
        "### Q. Identify candidate questions for your machine learning project"
      ]
    },
    {
      "cell_type": "markdown",
      "source": [
        "I would like to look at how specific factors impact on the likelihood of having a stroke; in particular someone's BMI, previous heart disease and average glucose level."
      ],
      "metadata": {
        "id": "D84Sv4R3M8rt"
      }
    },
    {
      "cell_type": "markdown",
      "metadata": {
        "id": "VFVQ_Sml1sl8"
      },
      "source": [
        "### Q. Generate a descriptive statistics report for the columns in your dataset"
      ]
    },
    {
      "cell_type": "code",
      "execution_count": 56,
      "metadata": {
        "id": "UW3sD2Ah1sl9",
        "colab": {
          "base_uri": "https://localhost:8080/",
          "height": 300
        },
        "outputId": "13a7bae5-c827-4b93-adac-9a8c445a5c58"
      },
      "outputs": [
        {
          "output_type": "execute_result",
          "data": {
            "text/html": [
              "\n",
              "  <div id=\"df-83f5bbaf-c9f0-40f5-a824-80e2d07a9f35\">\n",
              "    <div class=\"colab-df-container\">\n",
              "      <div>\n",
              "<style scoped>\n",
              "    .dataframe tbody tr th:only-of-type {\n",
              "        vertical-align: middle;\n",
              "    }\n",
              "\n",
              "    .dataframe tbody tr th {\n",
              "        vertical-align: top;\n",
              "    }\n",
              "\n",
              "    .dataframe thead th {\n",
              "        text-align: right;\n",
              "    }\n",
              "</style>\n",
              "<table border=\"1\" class=\"dataframe\">\n",
              "  <thead>\n",
              "    <tr style=\"text-align: right;\">\n",
              "      <th></th>\n",
              "      <th>id</th>\n",
              "      <th>age</th>\n",
              "      <th>hypertension</th>\n",
              "      <th>heart_disease</th>\n",
              "      <th>avg_glucose_level</th>\n",
              "      <th>bmi</th>\n",
              "      <th>stroke</th>\n",
              "    </tr>\n",
              "  </thead>\n",
              "  <tbody>\n",
              "    <tr>\n",
              "      <th>count</th>\n",
              "      <td>5110.000000</td>\n",
              "      <td>5110.000000</td>\n",
              "      <td>5110.000000</td>\n",
              "      <td>5110.000000</td>\n",
              "      <td>5110.000000</td>\n",
              "      <td>4909.000000</td>\n",
              "      <td>5110.000000</td>\n",
              "    </tr>\n",
              "    <tr>\n",
              "      <th>mean</th>\n",
              "      <td>36517.829354</td>\n",
              "      <td>43.226614</td>\n",
              "      <td>0.097456</td>\n",
              "      <td>0.054012</td>\n",
              "      <td>106.147677</td>\n",
              "      <td>28.893237</td>\n",
              "      <td>0.048728</td>\n",
              "    </tr>\n",
              "    <tr>\n",
              "      <th>std</th>\n",
              "      <td>21161.721625</td>\n",
              "      <td>22.612647</td>\n",
              "      <td>0.296607</td>\n",
              "      <td>0.226063</td>\n",
              "      <td>45.283560</td>\n",
              "      <td>7.854067</td>\n",
              "      <td>0.215320</td>\n",
              "    </tr>\n",
              "    <tr>\n",
              "      <th>min</th>\n",
              "      <td>67.000000</td>\n",
              "      <td>0.080000</td>\n",
              "      <td>0.000000</td>\n",
              "      <td>0.000000</td>\n",
              "      <td>55.120000</td>\n",
              "      <td>10.300000</td>\n",
              "      <td>0.000000</td>\n",
              "    </tr>\n",
              "    <tr>\n",
              "      <th>25%</th>\n",
              "      <td>17741.250000</td>\n",
              "      <td>25.000000</td>\n",
              "      <td>0.000000</td>\n",
              "      <td>0.000000</td>\n",
              "      <td>77.245000</td>\n",
              "      <td>23.500000</td>\n",
              "      <td>0.000000</td>\n",
              "    </tr>\n",
              "    <tr>\n",
              "      <th>50%</th>\n",
              "      <td>36932.000000</td>\n",
              "      <td>45.000000</td>\n",
              "      <td>0.000000</td>\n",
              "      <td>0.000000</td>\n",
              "      <td>91.885000</td>\n",
              "      <td>28.100000</td>\n",
              "      <td>0.000000</td>\n",
              "    </tr>\n",
              "    <tr>\n",
              "      <th>75%</th>\n",
              "      <td>54682.000000</td>\n",
              "      <td>61.000000</td>\n",
              "      <td>0.000000</td>\n",
              "      <td>0.000000</td>\n",
              "      <td>114.090000</td>\n",
              "      <td>33.100000</td>\n",
              "      <td>0.000000</td>\n",
              "    </tr>\n",
              "    <tr>\n",
              "      <th>max</th>\n",
              "      <td>72940.000000</td>\n",
              "      <td>82.000000</td>\n",
              "      <td>1.000000</td>\n",
              "      <td>1.000000</td>\n",
              "      <td>271.740000</td>\n",
              "      <td>97.600000</td>\n",
              "      <td>1.000000</td>\n",
              "    </tr>\n",
              "  </tbody>\n",
              "</table>\n",
              "</div>\n",
              "      <button class=\"colab-df-convert\" onclick=\"convertToInteractive('df-83f5bbaf-c9f0-40f5-a824-80e2d07a9f35')\"\n",
              "              title=\"Convert this dataframe to an interactive table.\"\n",
              "              style=\"display:none;\">\n",
              "        \n",
              "  <svg xmlns=\"http://www.w3.org/2000/svg\" height=\"24px\"viewBox=\"0 0 24 24\"\n",
              "       width=\"24px\">\n",
              "    <path d=\"M0 0h24v24H0V0z\" fill=\"none\"/>\n",
              "    <path d=\"M18.56 5.44l.94 2.06.94-2.06 2.06-.94-2.06-.94-.94-2.06-.94 2.06-2.06.94zm-11 1L8.5 8.5l.94-2.06 2.06-.94-2.06-.94L8.5 2.5l-.94 2.06-2.06.94zm10 10l.94 2.06.94-2.06 2.06-.94-2.06-.94-.94-2.06-.94 2.06-2.06.94z\"/><path d=\"M17.41 7.96l-1.37-1.37c-.4-.4-.92-.59-1.43-.59-.52 0-1.04.2-1.43.59L10.3 9.45l-7.72 7.72c-.78.78-.78 2.05 0 2.83L4 21.41c.39.39.9.59 1.41.59.51 0 1.02-.2 1.41-.59l7.78-7.78 2.81-2.81c.8-.78.8-2.07 0-2.86zM5.41 20L4 18.59l7.72-7.72 1.47 1.35L5.41 20z\"/>\n",
              "  </svg>\n",
              "      </button>\n",
              "      \n",
              "  <style>\n",
              "    .colab-df-container {\n",
              "      display:flex;\n",
              "      flex-wrap:wrap;\n",
              "      gap: 12px;\n",
              "    }\n",
              "\n",
              "    .colab-df-convert {\n",
              "      background-color: #E8F0FE;\n",
              "      border: none;\n",
              "      border-radius: 50%;\n",
              "      cursor: pointer;\n",
              "      display: none;\n",
              "      fill: #1967D2;\n",
              "      height: 32px;\n",
              "      padding: 0 0 0 0;\n",
              "      width: 32px;\n",
              "    }\n",
              "\n",
              "    .colab-df-convert:hover {\n",
              "      background-color: #E2EBFA;\n",
              "      box-shadow: 0px 1px 2px rgba(60, 64, 67, 0.3), 0px 1px 3px 1px rgba(60, 64, 67, 0.15);\n",
              "      fill: #174EA6;\n",
              "    }\n",
              "\n",
              "    [theme=dark] .colab-df-convert {\n",
              "      background-color: #3B4455;\n",
              "      fill: #D2E3FC;\n",
              "    }\n",
              "\n",
              "    [theme=dark] .colab-df-convert:hover {\n",
              "      background-color: #434B5C;\n",
              "      box-shadow: 0px 1px 3px 1px rgba(0, 0, 0, 0.15);\n",
              "      filter: drop-shadow(0px 1px 2px rgba(0, 0, 0, 0.3));\n",
              "      fill: #FFFFFF;\n",
              "    }\n",
              "  </style>\n",
              "\n",
              "      <script>\n",
              "        const buttonEl =\n",
              "          document.querySelector('#df-83f5bbaf-c9f0-40f5-a824-80e2d07a9f35 button.colab-df-convert');\n",
              "        buttonEl.style.display =\n",
              "          google.colab.kernel.accessAllowed ? 'block' : 'none';\n",
              "\n",
              "        async function convertToInteractive(key) {\n",
              "          const element = document.querySelector('#df-83f5bbaf-c9f0-40f5-a824-80e2d07a9f35');\n",
              "          const dataTable =\n",
              "            await google.colab.kernel.invokeFunction('convertToInteractive',\n",
              "                                                     [key], {});\n",
              "          if (!dataTable) return;\n",
              "\n",
              "          const docLinkHtml = 'Like what you see? Visit the ' +\n",
              "            '<a target=\"_blank\" href=https://colab.research.google.com/notebooks/data_table.ipynb>data table notebook</a>'\n",
              "            + ' to learn more about interactive tables.';\n",
              "          element.innerHTML = '';\n",
              "          dataTable['output_type'] = 'display_data';\n",
              "          await google.colab.output.renderOutput(dataTable, element);\n",
              "          const docLink = document.createElement('div');\n",
              "          docLink.innerHTML = docLinkHtml;\n",
              "          element.appendChild(docLink);\n",
              "        }\n",
              "      </script>\n",
              "    </div>\n",
              "  </div>\n",
              "  "
            ],
            "text/plain": [
              "                 id          age  ...          bmi       stroke\n",
              "count   5110.000000  5110.000000  ...  4909.000000  5110.000000\n",
              "mean   36517.829354    43.226614  ...    28.893237     0.048728\n",
              "std    21161.721625    22.612647  ...     7.854067     0.215320\n",
              "min       67.000000     0.080000  ...    10.300000     0.000000\n",
              "25%    17741.250000    25.000000  ...    23.500000     0.000000\n",
              "50%    36932.000000    45.000000  ...    28.100000     0.000000\n",
              "75%    54682.000000    61.000000  ...    33.100000     0.000000\n",
              "max    72940.000000    82.000000  ...    97.600000     1.000000\n",
              "\n",
              "[8 rows x 7 columns]"
            ]
          },
          "metadata": {},
          "execution_count": 56
        }
      ],
      "source": [
        "data.describe()"
      ]
    },
    {
      "cell_type": "code",
      "source": [
        "correlations = data.corr() \n",
        "correlations "
      ],
      "metadata": {
        "colab": {
          "base_uri": "https://localhost:8080/",
          "height": 269
        },
        "id": "Hh93FdD3lPkr",
        "outputId": "2c11bf8b-cd95-41c3-d0e4-8801de588c0f"
      },
      "execution_count": 57,
      "outputs": [
        {
          "output_type": "execute_result",
          "data": {
            "text/html": [
              "\n",
              "  <div id=\"df-4160d39e-bebf-4153-9d4d-e3eba74880b1\">\n",
              "    <div class=\"colab-df-container\">\n",
              "      <div>\n",
              "<style scoped>\n",
              "    .dataframe tbody tr th:only-of-type {\n",
              "        vertical-align: middle;\n",
              "    }\n",
              "\n",
              "    .dataframe tbody tr th {\n",
              "        vertical-align: top;\n",
              "    }\n",
              "\n",
              "    .dataframe thead th {\n",
              "        text-align: right;\n",
              "    }\n",
              "</style>\n",
              "<table border=\"1\" class=\"dataframe\">\n",
              "  <thead>\n",
              "    <tr style=\"text-align: right;\">\n",
              "      <th></th>\n",
              "      <th>id</th>\n",
              "      <th>age</th>\n",
              "      <th>hypertension</th>\n",
              "      <th>heart_disease</th>\n",
              "      <th>avg_glucose_level</th>\n",
              "      <th>bmi</th>\n",
              "      <th>stroke</th>\n",
              "    </tr>\n",
              "  </thead>\n",
              "  <tbody>\n",
              "    <tr>\n",
              "      <th>id</th>\n",
              "      <td>1.000000</td>\n",
              "      <td>0.003538</td>\n",
              "      <td>0.003550</td>\n",
              "      <td>-0.001296</td>\n",
              "      <td>0.001092</td>\n",
              "      <td>0.003084</td>\n",
              "      <td>0.006388</td>\n",
              "    </tr>\n",
              "    <tr>\n",
              "      <th>age</th>\n",
              "      <td>0.003538</td>\n",
              "      <td>1.000000</td>\n",
              "      <td>0.276398</td>\n",
              "      <td>0.263796</td>\n",
              "      <td>0.238171</td>\n",
              "      <td>0.333398</td>\n",
              "      <td>0.245257</td>\n",
              "    </tr>\n",
              "    <tr>\n",
              "      <th>hypertension</th>\n",
              "      <td>0.003550</td>\n",
              "      <td>0.276398</td>\n",
              "      <td>1.000000</td>\n",
              "      <td>0.108306</td>\n",
              "      <td>0.174474</td>\n",
              "      <td>0.167811</td>\n",
              "      <td>0.127904</td>\n",
              "    </tr>\n",
              "    <tr>\n",
              "      <th>heart_disease</th>\n",
              "      <td>-0.001296</td>\n",
              "      <td>0.263796</td>\n",
              "      <td>0.108306</td>\n",
              "      <td>1.000000</td>\n",
              "      <td>0.161857</td>\n",
              "      <td>0.041357</td>\n",
              "      <td>0.134914</td>\n",
              "    </tr>\n",
              "    <tr>\n",
              "      <th>avg_glucose_level</th>\n",
              "      <td>0.001092</td>\n",
              "      <td>0.238171</td>\n",
              "      <td>0.174474</td>\n",
              "      <td>0.161857</td>\n",
              "      <td>1.000000</td>\n",
              "      <td>0.175502</td>\n",
              "      <td>0.131945</td>\n",
              "    </tr>\n",
              "    <tr>\n",
              "      <th>bmi</th>\n",
              "      <td>0.003084</td>\n",
              "      <td>0.333398</td>\n",
              "      <td>0.167811</td>\n",
              "      <td>0.041357</td>\n",
              "      <td>0.175502</td>\n",
              "      <td>1.000000</td>\n",
              "      <td>0.042374</td>\n",
              "    </tr>\n",
              "    <tr>\n",
              "      <th>stroke</th>\n",
              "      <td>0.006388</td>\n",
              "      <td>0.245257</td>\n",
              "      <td>0.127904</td>\n",
              "      <td>0.134914</td>\n",
              "      <td>0.131945</td>\n",
              "      <td>0.042374</td>\n",
              "      <td>1.000000</td>\n",
              "    </tr>\n",
              "  </tbody>\n",
              "</table>\n",
              "</div>\n",
              "      <button class=\"colab-df-convert\" onclick=\"convertToInteractive('df-4160d39e-bebf-4153-9d4d-e3eba74880b1')\"\n",
              "              title=\"Convert this dataframe to an interactive table.\"\n",
              "              style=\"display:none;\">\n",
              "        \n",
              "  <svg xmlns=\"http://www.w3.org/2000/svg\" height=\"24px\"viewBox=\"0 0 24 24\"\n",
              "       width=\"24px\">\n",
              "    <path d=\"M0 0h24v24H0V0z\" fill=\"none\"/>\n",
              "    <path d=\"M18.56 5.44l.94 2.06.94-2.06 2.06-.94-2.06-.94-.94-2.06-.94 2.06-2.06.94zm-11 1L8.5 8.5l.94-2.06 2.06-.94-2.06-.94L8.5 2.5l-.94 2.06-2.06.94zm10 10l.94 2.06.94-2.06 2.06-.94-2.06-.94-.94-2.06-.94 2.06-2.06.94z\"/><path d=\"M17.41 7.96l-1.37-1.37c-.4-.4-.92-.59-1.43-.59-.52 0-1.04.2-1.43.59L10.3 9.45l-7.72 7.72c-.78.78-.78 2.05 0 2.83L4 21.41c.39.39.9.59 1.41.59.51 0 1.02-.2 1.41-.59l7.78-7.78 2.81-2.81c.8-.78.8-2.07 0-2.86zM5.41 20L4 18.59l7.72-7.72 1.47 1.35L5.41 20z\"/>\n",
              "  </svg>\n",
              "      </button>\n",
              "      \n",
              "  <style>\n",
              "    .colab-df-container {\n",
              "      display:flex;\n",
              "      flex-wrap:wrap;\n",
              "      gap: 12px;\n",
              "    }\n",
              "\n",
              "    .colab-df-convert {\n",
              "      background-color: #E8F0FE;\n",
              "      border: none;\n",
              "      border-radius: 50%;\n",
              "      cursor: pointer;\n",
              "      display: none;\n",
              "      fill: #1967D2;\n",
              "      height: 32px;\n",
              "      padding: 0 0 0 0;\n",
              "      width: 32px;\n",
              "    }\n",
              "\n",
              "    .colab-df-convert:hover {\n",
              "      background-color: #E2EBFA;\n",
              "      box-shadow: 0px 1px 2px rgba(60, 64, 67, 0.3), 0px 1px 3px 1px rgba(60, 64, 67, 0.15);\n",
              "      fill: #174EA6;\n",
              "    }\n",
              "\n",
              "    [theme=dark] .colab-df-convert {\n",
              "      background-color: #3B4455;\n",
              "      fill: #D2E3FC;\n",
              "    }\n",
              "\n",
              "    [theme=dark] .colab-df-convert:hover {\n",
              "      background-color: #434B5C;\n",
              "      box-shadow: 0px 1px 3px 1px rgba(0, 0, 0, 0.15);\n",
              "      filter: drop-shadow(0px 1px 2px rgba(0, 0, 0, 0.3));\n",
              "      fill: #FFFFFF;\n",
              "    }\n",
              "  </style>\n",
              "\n",
              "      <script>\n",
              "        const buttonEl =\n",
              "          document.querySelector('#df-4160d39e-bebf-4153-9d4d-e3eba74880b1 button.colab-df-convert');\n",
              "        buttonEl.style.display =\n",
              "          google.colab.kernel.accessAllowed ? 'block' : 'none';\n",
              "\n",
              "        async function convertToInteractive(key) {\n",
              "          const element = document.querySelector('#df-4160d39e-bebf-4153-9d4d-e3eba74880b1');\n",
              "          const dataTable =\n",
              "            await google.colab.kernel.invokeFunction('convertToInteractive',\n",
              "                                                     [key], {});\n",
              "          if (!dataTable) return;\n",
              "\n",
              "          const docLinkHtml = 'Like what you see? Visit the ' +\n",
              "            '<a target=\"_blank\" href=https://colab.research.google.com/notebooks/data_table.ipynb>data table notebook</a>'\n",
              "            + ' to learn more about interactive tables.';\n",
              "          element.innerHTML = '';\n",
              "          dataTable['output_type'] = 'display_data';\n",
              "          await google.colab.output.renderOutput(dataTable, element);\n",
              "          const docLink = document.createElement('div');\n",
              "          docLink.innerHTML = docLinkHtml;\n",
              "          element.appendChild(docLink);\n",
              "        }\n",
              "      </script>\n",
              "    </div>\n",
              "  </div>\n",
              "  "
            ],
            "text/plain": [
              "                         id       age  ...       bmi    stroke\n",
              "id                 1.000000  0.003538  ...  0.003084  0.006388\n",
              "age                0.003538  1.000000  ...  0.333398  0.245257\n",
              "hypertension       0.003550  0.276398  ...  0.167811  0.127904\n",
              "heart_disease     -0.001296  0.263796  ...  0.041357  0.134914\n",
              "avg_glucose_level  0.001092  0.238171  ...  0.175502  0.131945\n",
              "bmi                0.003084  0.333398  ...  1.000000  0.042374\n",
              "stroke             0.006388  0.245257  ...  0.042374  1.000000\n",
              "\n",
              "[7 rows x 7 columns]"
            ]
          },
          "metadata": {},
          "execution_count": 57
        }
      ]
    },
    {
      "cell_type": "code",
      "source": [
        "import seaborn as sns # visualization library \n",
        "sns.heatmap(correlations, cmap='coolwarm') # coolwarm-> red and blue color style"
      ],
      "metadata": {
        "colab": {
          "base_uri": "https://localhost:8080/",
          "height": 367
        },
        "id": "XaI7xVrSPhMm",
        "outputId": "f4c83b99-2766-44e8-d9df-997ff247177a"
      },
      "execution_count": 58,
      "outputs": [
        {
          "output_type": "execute_result",
          "data": {
            "text/plain": [
              "<matplotlib.axes._subplots.AxesSubplot at 0x7f49750c0150>"
            ]
          },
          "metadata": {},
          "execution_count": 58
        },
        {
          "output_type": "display_data",
          "data": {
            "image/png": "[encoded data removed]",
            "text/plain": [
              "<Figure size 432x288 with 2 Axes>"
            ]
          },
          "metadata": {
            "needs_background": "light"
          }
        }
      ]
    },
    {
      "cell_type": "code",
      "source": [
        "data.info()"
      ],
      "metadata": {
        "colab": {
          "base_uri": "https://localhost:8080/"
        },
        "id": "aybZilj2QY_p",
        "outputId": "a26c9f1f-8dea-4e3d-fe7d-bbaac8c06937"
      },
      "execution_count": 59,
      "outputs": [
        {
          "output_type": "stream",
          "name": "stdout",
          "text": [
            "<class 'pandas.core.frame.DataFrame'>\n",
            "RangeIndex: 5110 entries, 0 to 5109\n",
            "Data columns (total 12 columns):\n",
            " #   Column             Non-Null Count  Dtype  \n",
            "---  ------             --------------  -----  \n",
            " 0   id                 5110 non-null   int64  \n",
            " 1   gender             5110 non-null   object \n",
            " 2   age                5110 non-null   float64\n",
            " 3   hypertension       5110 non-null   int64  \n",
            " 4   heart_disease      5110 non-null   int64  \n",
            " 5   ever_married       5110 non-null   object \n",
            " 6   work_type          5110 non-null   object \n",
            " 7   Residence_type     5110 non-null   object \n",
            " 8   avg_glucose_level  5110 non-null   float64\n",
            " 9   bmi                4909 non-null   float64\n",
            " 10  smoking_status     5110 non-null   object \n",
            " 11  stroke             5110 non-null   int64  \n",
            "dtypes: float64(3), int64(4), object(5)\n",
            "memory usage: 479.2+ KB\n"
          ]
        }
      ]
    },
    {
      "cell_type": "markdown",
      "source": [
        "I can see from the above information that there are null values in the BMI column so will check to see how many of these there are.\n"
      ],
      "metadata": {
        "id": "qICO8h3CQeEI"
      }
    },
    {
      "cell_type": "code",
      "source": [
        "data.isnull().sum()"
      ],
      "metadata": {
        "colab": {
          "base_uri": "https://localhost:8080/"
        },
        "id": "aw-JN-udQr_B",
        "outputId": "c64a30db-994a-4660-e93f-e4a8e4f84e53"
      },
      "execution_count": 60,
      "outputs": [
        {
          "output_type": "execute_result",
          "data": {
            "text/plain": [
              "id                     0\n",
              "gender                 0\n",
              "age                    0\n",
              "hypertension           0\n",
              "heart_disease          0\n",
              "ever_married           0\n",
              "work_type              0\n",
              "Residence_type         0\n",
              "avg_glucose_level      0\n",
              "bmi                  201\n",
              "smoking_status         0\n",
              "stroke                 0\n",
              "dtype: int64"
            ]
          },
          "metadata": {},
          "execution_count": 60
        }
      ]
    },
    {
      "cell_type": "markdown",
      "source": [
        "So I can see from this that there are 201 null values. As this is under 4% of the values in that column, I will just delete the rows with null values rather than deleting the whole column."
      ],
      "metadata": {
        "id": "SU4uHf7_Qxiz"
      }
    },
    {
      "cell_type": "code",
      "source": [
        "data = data.dropna()\n"
      ],
      "metadata": {
        "id": "KRtp-uLoRB3-"
      },
      "execution_count": 61,
      "outputs": []
    },
    {
      "cell_type": "markdown",
      "source": [
        "To check whether that has worked properly, I'll get the information again"
      ],
      "metadata": {
        "id": "B8AFJG-gi3mc"
      }
    },
    {
      "cell_type": "code",
      "source": [
        "data.info()"
      ],
      "metadata": {
        "colab": {
          "base_uri": "https://localhost:8080/"
        },
        "id": "50PU5es9RJG1",
        "outputId": "15aa321e-2d8d-4d95-98a4-aa014885d5a7"
      },
      "execution_count": 62,
      "outputs": [
        {
          "output_type": "stream",
          "name": "stdout",
          "text": [
            "<class 'pandas.core.frame.DataFrame'>\n",
            "Int64Index: 4909 entries, 0 to 5109\n",
            "Data columns (total 12 columns):\n",
            " #   Column             Non-Null Count  Dtype  \n",
            "---  ------             --------------  -----  \n",
            " 0   id                 4909 non-null   int64  \n",
            " 1   gender             4909 non-null   object \n",
            " 2   age                4909 non-null   float64\n",
            " 3   hypertension       4909 non-null   int64  \n",
            " 4   heart_disease      4909 non-null   int64  \n",
            " 5   ever_married       4909 non-null   object \n",
            " 6   work_type          4909 non-null   object \n",
            " 7   Residence_type     4909 non-null   object \n",
            " 8   avg_glucose_level  4909 non-null   float64\n",
            " 9   bmi                4909 non-null   float64\n",
            " 10  smoking_status     4909 non-null   object \n",
            " 11  stroke             4909 non-null   int64  \n",
            "dtypes: float64(3), int64(4), object(5)\n",
            "memory usage: 498.6+ KB\n"
          ]
        }
      ]
    },
    {
      "cell_type": "markdown",
      "source": [
        "This shows that all columns now have the same number of rows, so there shouldn't be any missing values. "
      ],
      "metadata": {
        "id": "-PjYDFqPRM62"
      }
    },
    {
      "cell_type": "markdown",
      "source": [
        "I'm now going to save this cleaned data as a csv file so that I can use it in Azure."
      ],
      "metadata": {
        "id": "FKbS9f4_dfV6"
      }
    },
    {
      "cell_type": "code",
      "source": [
        "data.to_csv(\"cleanedstrokedata\")"
      ],
      "metadata": {
        "id": "EqBqUUPTaaz6"
      },
      "execution_count": 63,
      "outputs": []
    },
    {
      "cell_type": "markdown",
      "source": [
        "From looking at the statistical information, I can see that it's going to be much more straightforward to concentrate on the numerical data, therefore at this point I will go ahead and drop the non-numerical columns. "
      ],
      "metadata": {
        "id": "3cA6C0sqTXNg"
      }
    },
    {
      "cell_type": "code",
      "source": [
        "data = data.drop(['gender', 'ever_married','work_type','Residence_type','smoking_status'], axis = 1)\n"
      ],
      "metadata": {
        "id": "_rkYtwdtTprE"
      },
      "execution_count": 68,
      "outputs": []
    },
    {
      "cell_type": "markdown",
      "source": [
        "I'll now check that the only columns I have left have either float or integer datatypes"
      ],
      "metadata": {
        "id": "W47w5lKhGktJ"
      }
    },
    {
      "cell_type": "code",
      "source": [
        "data.info()"
      ],
      "metadata": {
        "colab": {
          "base_uri": "https://localhost:8080/"
        },
        "id": "8NN3ek0aUVAm",
        "outputId": "83083841-61f1-4098-b567-51938cbc7b80"
      },
      "execution_count": 69,
      "outputs": [
        {
          "output_type": "stream",
          "name": "stdout",
          "text": [
            "<class 'pandas.core.frame.DataFrame'>\n",
            "Int64Index: 4909 entries, 0 to 5109\n",
            "Data columns (total 7 columns):\n",
            " #   Column             Non-Null Count  Dtype  \n",
            "---  ------             --------------  -----  \n",
            " 0   id                 4909 non-null   int64  \n",
            " 1   age                4909 non-null   float64\n",
            " 2   hypertension       4909 non-null   int64  \n",
            " 3   heart_disease      4909 non-null   int64  \n",
            " 4   avg_glucose_level  4909 non-null   float64\n",
            " 5   bmi                4909 non-null   float64\n",
            " 6   stroke             4909 non-null   int64  \n",
            "dtypes: float64(3), int64(4)\n",
            "memory usage: 306.8 KB\n"
          ]
        }
      ]
    },
    {
      "cell_type": "markdown",
      "metadata": {
        "id": "VjSsOeOn1sl9"
      },
      "source": [
        "# Part 2: Data Preparation"
      ]
    },
    {
      "cell_type": "markdown",
      "metadata": {
        "id": "zTBxeECJ1sl_"
      },
      "source": [
        "### Q. Discuss the following types of missing data and how they would be handled in reference to your dataset where applicable.\n",
        "*\tMissing completely at random (MCAR)\n",
        "*\tMissing at random (MAR)\n",
        "*\tMissing Not at Random (MNAR)"
      ]
    },
    {
      "cell_type": "markdown",
      "source": [
        "As mentioned above, the only column with null values was the BMI column so that made it relatively easy to deal with.  \n",
        "I would class these as missing at random as they are not significantly different to the values that are available. "
      ],
      "metadata": {
        "id": "v1VufN4827vY"
      }
    },
    {
      "cell_type": "markdown",
      "source": [
        "Now I've gotten rid of null values and dropped non-numerical columns, I will split my data into training and testing and then normalise by finding the z-score."
      ],
      "metadata": {
        "id": "CaMx7hJshV5d"
      }
    },
    {
      "cell_type": "code",
      "source": [
        "y = data.loc [:, 'stroke']\n",
        "x = data.iloc [:, :-1]\n",
        "from sklearn.model_selection import train_test_split\n",
        "xtrain, xtest, ytrain, ytest = train_test_split (x,y, test_size = 0.2)\n",
        "\n",
        "stats = xtrain.describe().T\n",
        "stats\n",
        "\n",
        "zmean = stats ['mean']\n",
        "zstd = stats ['std']\n",
        "\n",
        "norm_xtrain = (xtrain -zmean)/zstd\n",
        "norm_xtest = (xtest - zmean)/zstd"
      ],
      "metadata": {
        "id": "jAfF3tUIe_vD"
      },
      "execution_count": 72,
      "outputs": []
    },
    {
      "cell_type": "markdown",
      "metadata": {
        "id": "1G_CWkTW1smA"
      },
      "source": [
        "# Part 3: Model Selection"
      ]
    },
    {
      "cell_type": "markdown",
      "metadata": {
        "id": "J0tLTRmJ1smC"
      },
      "source": [
        "### Q. Use the cheat sheet below to choose the algorithm/estimator suitable for building a model to address your candidate question(s)\n",
        "\n",
        "* https://scikit-learn.org/stable/tutorial/machine_learning_map/"
      ]
    },
    {
      "cell_type": "markdown",
      "source": [
        "Mine is a classification problem and I've chosen two different algorithms for this."
      ],
      "metadata": {
        "id": "dOE8H0xDxwI1"
      }
    },
    {
      "cell_type": "code",
      "execution_count": 73,
      "metadata": {
        "id": "2tCwh--M1smG",
        "colab": {
          "base_uri": "https://localhost:8080/"
        },
        "outputId": "b08804a9-e47f-49c4-c44d-c055088a2822"
      },
      "outputs": [
        {
          "output_type": "execute_result",
          "data": {
            "text/plain": [
              "RandomForestClassifier()"
            ]
          },
          "metadata": {},
          "execution_count": 73
        }
      ],
      "source": [
        "from sklearn.ensemble import RandomForestClassifier\n",
        "model = RandomForestClassifier()\n",
        "model.fit(norm_xtrain, ytrain)"
      ]
    },
    {
      "cell_type": "code",
      "source": [
        "from sklearn.neighbors import KNeighborsClassifier\n",
        "model = KNeighborsClassifier()\n",
        "model.fit(norm_xtrain, ytrain)"
      ],
      "metadata": {
        "colab": {
          "base_uri": "https://localhost:8080/"
        },
        "id": "PhuoIKVd8FBa",
        "outputId": "2af51cc4-1f2e-4b3a-81cb-d42aae8b3902"
      },
      "execution_count": 89,
      "outputs": [
        {
          "output_type": "execute_result",
          "data": {
            "text/plain": [
              "KNeighborsClassifier()"
            ]
          },
          "metadata": {},
          "execution_count": 89
        }
      ]
    },
    {
      "cell_type": "code",
      "source": [
        "ypred = model.predict(norm_xtest)"
      ],
      "metadata": {
        "id": "YuDGa4vKxh8M"
      },
      "execution_count": 74,
      "outputs": []
    },
    {
      "cell_type": "code",
      "source": [
        "ypred"
      ],
      "metadata": {
        "colab": {
          "base_uri": "https://localhost:8080/"
        },
        "id": "lZXNDv3gxn15",
        "outputId": "961d1f9b-fdff-4184-9aa4-fc3c6d6a1cae"
      },
      "execution_count": 75,
      "outputs": [
        {
          "output_type": "execute_result",
          "data": {
            "text/plain": [
              "array([0, 0, 0, 0, 0, 0, 0, 0, 0, 0, 0, 0, 0, 0, 0, 0, 0, 0, 0, 0, 0, 0,\n",
              "       0, 0, 0, 0, 0, 0, 0, 0, 0, 0, 0, 0, 0, 0, 0, 0, 0, 0, 0, 0, 0, 0,\n",
              "       0, 0, 0, 0, 0, 0, 0, 0, 0, 0, 0, 0, 0, 0, 0, 0, 0, 0, 0, 0, 0, 0,\n",
              "       0, 0, 0, 0, 0, 0, 0, 0, 0, 0, 0, 0, 0, 0, 0, 0, 0, 0, 0, 0, 0, 0,\n",
              "       0, 0, 0, 0, 0, 0, 0, 0, 0, 0, 0, 0, 0, 0, 0, 0, 0, 0, 0, 0, 0, 0,\n",
              "       0, 0, 0, 0, 0, 0, 0, 0, 0, 0, 0, 0, 0, 0, 0, 0, 0, 0, 0, 0, 0, 0,\n",
              "       0, 0, 0, 0, 0, 0, 0, 0, 0, 0, 0, 0, 0, 0, 0, 0, 0, 0, 0, 0, 0, 0,\n",
              "       0, 0, 0, 0, 0, 0, 0, 0, 0, 0, 0, 0, 0, 0, 0, 0, 0, 0, 0, 0, 0, 0,\n",
              "       0, 0, 0, 0, 0, 0, 0, 0, 0, 0, 0, 0, 0, 0, 0, 0, 0, 0, 0, 0, 0, 0,\n",
              "       0, 0, 0, 0, 0, 0, 0, 0, 0, 0, 0, 0, 0, 0, 0, 0, 0, 0, 0, 0, 0, 0,\n",
              "       0, 0, 0, 0, 0, 0, 0, 0, 0, 0, 0, 0, 0, 0, 0, 0, 0, 0, 0, 0, 0, 0,\n",
              "       0, 0, 0, 0, 0, 0, 0, 0, 0, 0, 0, 0, 0, 0, 0, 0, 0, 0, 0, 0, 0, 0,\n",
              "       0, 0, 0, 0, 0, 0, 0, 0, 0, 0, 0, 0, 0, 0, 0, 0, 0, 0, 0, 0, 0, 0,\n",
              "       0, 0, 0, 0, 0, 0, 0, 0, 0, 0, 0, 0, 0, 0, 0, 0, 0, 0, 0, 0, 0, 0,\n",
              "       0, 0, 0, 0, 0, 0, 0, 0, 0, 0, 0, 0, 0, 0, 0, 0, 0, 0, 0, 0, 0, 0,\n",
              "       0, 0, 0, 0, 0, 0, 0, 0, 0, 0, 0, 0, 0, 0, 0, 0, 0, 0, 0, 0, 0, 0,\n",
              "       0, 0, 0, 0, 0, 0, 0, 0, 0, 0, 0, 0, 0, 0, 0, 0, 0, 0, 0, 0, 0, 0,\n",
              "       0, 0, 0, 0, 0, 0, 0, 0, 0, 0, 0, 0, 0, 0, 0, 0, 0, 0, 0, 0, 0, 0,\n",
              "       0, 0, 0, 0, 0, 0, 0, 0, 0, 0, 0, 0, 0, 0, 0, 0, 0, 0, 0, 0, 0, 0,\n",
              "       0, 0, 0, 0, 0, 0, 0, 0, 0, 0, 0, 0, 0, 0, 0, 1, 0, 0, 0, 0, 0, 0,\n",
              "       0, 0, 0, 0, 0, 0, 0, 0, 0, 0, 0, 0, 0, 0, 0, 0, 0, 0, 0, 0, 0, 0,\n",
              "       0, 0, 0, 0, 0, 0, 0, 0, 0, 0, 0, 0, 0, 0, 0, 0, 0, 0, 0, 0, 0, 0,\n",
              "       0, 0, 0, 0, 0, 0, 0, 0, 0, 0, 0, 0, 0, 0, 0, 0, 0, 0, 0, 0, 0, 0,\n",
              "       0, 0, 0, 0, 0, 0, 0, 0, 0, 0, 0, 0, 0, 0, 0, 0, 0, 0, 0, 0, 0, 0,\n",
              "       0, 0, 0, 0, 0, 0, 0, 0, 0, 0, 0, 0, 0, 0, 0, 0, 0, 0, 0, 0, 0, 0,\n",
              "       0, 0, 0, 0, 0, 0, 0, 0, 0, 0, 0, 0, 0, 0, 0, 0, 0, 0, 0, 0, 0, 0,\n",
              "       0, 0, 0, 0, 0, 0, 0, 0, 0, 0, 0, 0, 0, 0, 0, 0, 0, 0, 0, 0, 0, 0,\n",
              "       0, 0, 0, 0, 0, 0, 0, 0, 0, 0, 0, 0, 0, 0, 0, 0, 0, 0, 0, 0, 0, 0,\n",
              "       0, 0, 0, 0, 0, 0, 0, 0, 0, 0, 0, 0, 0, 0, 0, 0, 0, 0, 0, 0, 0, 0,\n",
              "       0, 0, 0, 0, 0, 0, 0, 0, 0, 0, 0, 0, 0, 0, 0, 0, 0, 0, 0, 0, 0, 0,\n",
              "       0, 0, 0, 0, 0, 1, 0, 0, 0, 0, 0, 0, 0, 0, 0, 0, 0, 0, 0, 0, 0, 0,\n",
              "       0, 0, 0, 0, 0, 0, 0, 0, 0, 0, 0, 0, 0, 0, 0, 0, 0, 0, 0, 0, 0, 0,\n",
              "       0, 0, 0, 0, 0, 0, 0, 0, 0, 0, 0, 0, 0, 0, 0, 0, 0, 0, 0, 0, 0, 0,\n",
              "       0, 0, 0, 0, 0, 0, 0, 0, 0, 0, 0, 0, 0, 0, 0, 0, 0, 0, 0, 0, 0, 0,\n",
              "       0, 0, 0, 0, 0, 0, 0, 0, 0, 0, 0, 0, 0, 0, 0, 0, 0, 0, 0, 0, 0, 0,\n",
              "       0, 0, 0, 0, 0, 0, 0, 0, 0, 0, 0, 0, 0, 0, 0, 0, 0, 0, 0, 0, 0, 0,\n",
              "       0, 0, 0, 0, 0, 0, 0, 0, 0, 0, 0, 0, 0, 0, 0, 0, 0, 0, 0, 0, 0, 0,\n",
              "       0, 0, 0, 0, 0, 0, 0, 0, 0, 0, 0, 0, 0, 0, 0, 0, 0, 0, 0, 0, 0, 0,\n",
              "       0, 0, 0, 0, 0, 0, 0, 0, 0, 0, 0, 0, 0, 0, 0, 0, 0, 0, 0, 0, 0, 0,\n",
              "       0, 0, 0, 0, 0, 0, 0, 0, 0, 0, 0, 0, 0, 0, 0, 0, 0, 0, 0, 0, 0, 0,\n",
              "       0, 0, 0, 0, 0, 0, 0, 0, 0, 0, 0, 0, 0, 0, 0, 0, 0, 0, 0, 0, 0, 0,\n",
              "       0, 0, 0, 0, 0, 0, 0, 0, 0, 0, 0, 0, 0, 0, 0, 0, 0, 0, 0, 0, 0, 0,\n",
              "       0, 0, 0, 0, 0, 0, 0, 0, 0, 0, 0, 0, 0, 0, 0, 0, 0, 0, 0, 0, 0, 0,\n",
              "       0, 0, 0, 0, 0, 0, 0, 0, 0, 0, 0, 0, 0, 0, 0, 0, 0, 0, 0, 0, 0, 0,\n",
              "       0, 0, 0, 0, 0, 0, 0, 0, 0, 0, 0, 0, 0, 0])"
            ]
          },
          "metadata": {},
          "execution_count": 75
        }
      ]
    },
    {
      "cell_type": "code",
      "source": [
        ""
      ],
      "metadata": {
        "id": "C_Pf10p02iqm"
      },
      "execution_count": null,
      "outputs": []
    },
    {
      "cell_type": "markdown",
      "metadata": {
        "id": "yngmtpu31smE"
      },
      "source": [
        "# Part 4: Model Evaluation"
      ]
    },
    {
      "cell_type": "markdown",
      "metadata": {
        "id": "vuaBZLs01smF"
      },
      "source": [
        "### Q. Identify which of the statistical measures below are suitable for the evaluation of your model.\n",
        "\n",
        "Classification Metrics:\n",
        "* Accuracy\n",
        "* Precision\n",
        "* Recall\n",
        "* F1 Score\n",
        "\n",
        "Regression Metrics:\n",
        "    \n",
        "* Mean absolute error (MAE)\n",
        "* Root mean squared error (RMSE)\n",
        "* Relative absolute error (RAE)\n",
        "* Relative squared error (RSE)\n",
        "* Mean Zero One Error (MZOE)\n",
        "* Coefficient of determination\n",
        "\n",
        " "
      ]
    },
    {
      "cell_type": "markdown",
      "source": [
        "Classification metrics from the work here in Python:\n"
      ],
      "metadata": {
        "id": "BavC7xybw6BT"
      }
    },
    {
      "cell_type": "code",
      "source": [
        "from sklearn.metrics import accuracy_score\n",
        "accuracy_method1 = accuracy_score(ypred, ytest)\n",
        "accuracy_method1"
      ],
      "metadata": {
        "colab": {
          "base_uri": "https://localhost:8080/"
        },
        "id": "FIC2vFFIx5TM",
        "outputId": "fca1a3bd-713a-4b9e-e797-0d61070578d0"
      },
      "execution_count": 85,
      "outputs": [
        {
          "output_type": "execute_result",
          "data": {
            "text/plain": [
              "0.9501018329938901"
            ]
          },
          "metadata": {},
          "execution_count": 85
        }
      ]
    },
    {
      "cell_type": "code",
      "source": [
        "from sklearn.model_selection import cross_val_score\n",
        "cv_method1 = cross_val_score(model, norm_xtrain, ytrain, cv=5)\n",
        "cv_method1"
      ],
      "metadata": {
        "colab": {
          "base_uri": "https://localhost:8080/"
        },
        "id": "Dt-dLMEf0f9f",
        "outputId": "77046c2e-dbd2-49f2-8909-debb8937ba0a"
      },
      "execution_count": 86,
      "outputs": [
        {
          "output_type": "execute_result",
          "data": {
            "text/plain": [
              "array([0.95928753, 0.95928753, 0.95923567, 0.95923567, 0.95923567])"
            ]
          },
          "metadata": {},
          "execution_count": 86
        }
      ]
    },
    {
      "cell_type": "markdown",
      "source": [
        "Metrics from the Training Pipeline run in Azure (where I chose the Multiclass Decision Forest algorithm):\n",
        "![image.png](data:image/png;base64,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)"
      ],
      "metadata": {
        "id": "Dw2B_zTAmy3t"
      }
    },
    {
      "cell_type": "markdown",
      "source": [
        "It's clear from this that the accuracy was higher with the Azure Machine Learning Pipeline model.  I did use a different algorithm here but I also didn't normalise the data, like I did within this notebook before using the RandomForest and KNeighbors classifiers, so would guess that this may have had an impact. "
      ],
      "metadata": {
        "id": "98p1L0mIHIS9"
      }
    },
    {
      "cell_type": "markdown",
      "metadata": {
        "id": "Av_WE84e1smH"
      },
      "source": [
        "# Part 5: Stretch - Model Deployment"
      ]
    },
    {
      "cell_type": "markdown",
      "source": [
        "Now this is completed, I will save as a PKL file and then use to import and deploy a model in Azure."
      ],
      "metadata": {
        "id": "EuZA_oZZDGbG"
      }
    },
    {
      "cell_type": "code",
      "source": [
        "import pickle\n",
        "pickle.dump(model, open('model.pkl', 'wb'))"
      ],
      "metadata": {
        "id": "D1EsH2XX-o9k"
      },
      "execution_count": 90,
      "outputs": []
    },
    {
      "cell_type": "code",
      "source": [
        "import sklearn\n",
        "print(sklearn.__version__)"
      ],
      "metadata": {
        "colab": {
          "base_uri": "https://localhost:8080/"
        },
        "id": "nwMjFKfT_sFS",
        "outputId": "6f610089-1d1c-4b3c-bfcf-76bed76c6569"
      },
      "execution_count": 91,
      "outputs": [
        {
          "output_type": "stream",
          "name": "stdout",
          "text": [
            "1.0.2\n"
          ]
        }
      ]
    },
    {
      "cell_type": "markdown",
      "source": [
        "Here is the code from the completed deployment in Azure after saving this notebook as a PKL file:"
      ],
      "metadata": {
        "id": "QbaaGJOACs6t"
      }
    },
    {
      "cell_type": "code",
      "source": [
        "import urllib.request\n",
        "import json\n",
        "import os\n",
        "import ssl\n",
        "\n",
        "def allowSelfSignedHttps(allowed):\n",
        "    # bypass the server certificate verification on client side\n",
        "    if allowed and not os.environ.get('PYTHONHTTPSVERIFY', '') and getattr(ssl, '_create_unverified_context', None):\n",
        "        ssl._create_default_https_context = ssl._create_unverified_context\n",
        "\n",
        "allowSelfSignedHttps(True) # this line is needed if you use self-signed certificate in your scoring service.\n",
        "\n",
        "# Request data goes here\n",
        "data = {\n",
        "}\n",
        "\n",
        "body = str.encode(json.dumps(data))\n",
        "\n",
        "url = 'http://30e93404-8b91-4ff1-9298-a832f15cc1c8.eastus.azurecontainer.io/score'\n",
        "api_key = '' # Replace this with the API key for the web service\n",
        "headers = {'Content-Type':'application/json', 'Authorization':('Bearer '+ api_key)}\n",
        "\n",
        "req = urllib.request.Request(url, body, headers)\n",
        "\n",
        "try:\n",
        "    response = urllib.request.urlopen(req)\n",
        "\n",
        "    result = response.read()\n",
        "    print(result)\n",
        "except urllib.error.HTTPError as error:\n",
        "    print(\"The request failed with status code: \" + str(error.code))\n",
        "\n",
        "    # Print the headers - they include the requert ID and the timestamp, which are useful for debugging the failure\n",
        "    print(error.info())\n",
        "    print(json.loads(error.read().decode(\"utf8\", 'ignore')))"
      ],
      "metadata": {
        "id": "tqLi1am4CyXL"
      },
      "execution_count": null,
      "outputs": []
    },
    {
      "cell_type": "markdown",
      "source": [
        "Here is the completed code from the deployment in Azure using the Machine Learning Pipeline Designer (following on from importing the csv file after I'd cleaned the data in this notebook):"
      ],
      "metadata": {
        "id": "m722ULtdqu86"
      }
    },
    {
      "cell_type": "code",
      "source": [
        "import urllib.request\n",
        "import json\n",
        "import os\n",
        "import ssl\n",
        "\n",
        "def allowSelfSignedHttps(allowed):\n",
        "    # bypass the server certificate verification on client side\n",
        "    if allowed and not os.environ.get('PYTHONHTTPSVERIFY', '') and getattr(ssl, '_create_unverified_context', None):\n",
        "        ssl._create_default_https_context = ssl._create_unverified_context\n",
        "\n",
        "allowSelfSignedHttps(True) # this line is needed if you use self-signed certificate in your scoring service.\n",
        "\n",
        "# Request data goes here\n",
        "data = {\n",
        "    \"Inputs\": {\n",
        "        \"WebServiceInput0\":\n",
        "        [\n",
        "            {\n",
        "                'Column1': \"0\",\n",
        "                'id': \"9046\",\n",
        "                'gender': \"Male\",\n",
        "                'age': \"67\",\n",
        "                'hypertension': \"0\",\n",
        "                'heart_disease': \"1\",\n",
        "                'ever_married': \"true\",\n",
        "                'work_type': \"Private\",\n",
        "                'Residence_type': \"Urban\",\n",
        "                'avg_glucose_level': \"228.69\",\n",
        "                'bmi': \"36.6\",\n",
        "                'smoking_status': \"formerly smoked\",\n",
        "                'stroke': \"1\",\n",
        "            },\n",
        "        ],\n",
        "    },\n",
        "    \"GlobalParameters\": {\n",
        "    }\n",
        "}\n",
        "\n",
        "body = str.encode(json.dumps(data))\n",
        "\n",
        "url = 'http://d384072e-61eb-44ea-945c-b2c3f611562f.eastus.azurecontainer.io/score'\n",
        "api_key = '1IsokZZsAJWe3DGZQsbpfk4YugDt56Ci' # Replace this with the API key for the web service\n",
        "headers = {'Content-Type':'application/json', 'Authorization':('Bearer '+ api_key)}\n",
        "\n",
        "req = urllib.request.Request(url, body, headers)\n",
        "\n",
        "try:\n",
        "    response = urllib.request.urlopen(req)\n",
        "\n",
        "    result = response.read()\n",
        "    print(result)\n",
        "except urllib.error.HTTPError as error:\n",
        "    print(\"The request failed with status code: \" + str(error.code))\n",
        "\n",
        "    # Print the headers - they include the requert ID and the timestamp, which are useful for debugging the failure\n",
        "    print(error.info())\n",
        "    print(json.loads(error.read().decode(\"utf8\", 'ignore')))"
      ],
      "metadata": {
        "id": "mcpfs90Sq1NH"
      },
      "execution_count": null,
      "outputs": []
    },
    {
      "cell_type": "markdown",
      "metadata": {
        "id": "WZfpor9S1smJ"
      },
      "source": [
        "### Q. Evaluate the open-source app framework for Machine Learning model deployment below in your own time.\n",
        "\n",
        "* https://streamlit.io/"
      ]
    },
    {
      "cell_type": "code",
      "execution_count": null,
      "metadata": {
        "id": "2Vpx4Gzd1smL"
      },
      "outputs": [],
      "source": [
        ""
      ]
    }
  ],
  "metadata": {
    "kernelspec": {
      "display_name": "Python 3",
      "language": "python",
      "name": "python3"
    },
    "language_info": {
      "codemirror_mode": {
        "name": "ipython",
        "version": 3
      },
      "file_extension": ".py",
      "mimetype": "text/x-python",
      "name": "python",
      "nbconvert_exporter": "python",
      "pygments_lexer": "ipython3",
      "version": "3.7.4"
    },
    "colab": {
      "name": "MachineLearningProjectSaraAllsopp.ipynb",
      "provenance": [],
      "collapsed_sections": [],
      "include_colab_link": true
    }
  },
  "nbformat": 4,
  "nbformat_minor": 0
}